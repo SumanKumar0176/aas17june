{
 "cells": [
  {
   "cell_type": "code",
   "execution_count": null,
   "id": "2d0e31d9-600d-422e-8648-3fedfdda6146",
   "metadata": {},
   "outputs": [],
   "source": [
    "\"\"\"\n",
    "1. What is the role of try and exception block?\n",
    "\"\"\""
   ]
  },
  {
   "cell_type": "code",
   "execution_count": null,
   "id": "c4f58a17-25b0-49b7-b7fe-a57cb87eca30",
   "metadata": {},
   "outputs": [],
   "source": [
    "\"\"\n",
    "Ans:\n",
    "Try block: The code that might raise an exception is placed within the try block. It defines a section of code where exceptions might occur. \n",
    "If an exception is raised within the try block, the normal flow of execution is interrupted, and the code moves to the corresponding except block.\n",
    "\n",
    "Except block: The code within the except block defines how to handle the raised exception. It specifies the actions to be taken when a particular \n",
    "type of exception occurs. Multiple except blocks can be used to handle different types of exceptions. If an exception occurs in the try block and \n",
    "matches the type specified in the except block, the corresponding except block is executed. If no exception occurs, the except block is skipped.\n",
    "\"\"\""
   ]
  },
  {
   "cell_type": "code",
   "execution_count": null,
   "id": "72bfda17-3f0d-472e-982f-4ac4845859e8",
   "metadata": {},
   "outputs": [],
   "source": [
    "\"\"\"\n",
    "2. What is the syntax for a basic try-except block?\n",
    "\"\"\""
   ]
  },
  {
   "cell_type": "code",
   "execution_count": 4,
   "id": "46e8cc7c-4416-40b3-8498-f1e6d5948754",
   "metadata": {},
   "outputs": [
    {
     "data": {
      "text/plain": [
       "'\\ntry:\\n    # Code that might raise an exception\\n    # ...\\n    # ...\\n\\nexcept ExceptionType:\\n    # Code to handle the specific exception\\n    # ...\\n    # ...\\n\\n'"
      ]
     },
     "execution_count": 4,
     "metadata": {},
     "output_type": "execute_result"
    }
   ],
   "source": [
    "\"\"\"\n",
    "try:\n",
    "    # Code that might raise an exception\n",
    "    # ...\n",
    "    # ...\n",
    "\n",
    "except ExceptionType:\n",
    "    # Code to handle the specific exception\n",
    "    # ...\n",
    "    # ...\n",
    "\n",
    "\"\"\"\n"
   ]
  },
  {
   "cell_type": "code",
   "execution_count": null,
   "id": "2a934423-4e36-4bfe-8be3-2b6c962c2ca1",
   "metadata": {},
   "outputs": [],
   "source": [
    "\"\"\"\n",
    "3. What happens if an exception occurs inside a try block and there is no matching\n",
    "except block?\n",
    "\"\"\""
   ]
  },
  {
   "cell_type": "code",
   "execution_count": null,
   "id": "3b538a50-6a5e-4e36-8608-b4781abf49d3",
   "metadata": {},
   "outputs": [],
   "source": [
    "If an exception occurs inside a try block and there is no matching except block to handle that specific exception, the exception will propagate up the\n",
    "call stack until a suitable exceptblock is found or until the exception reaches the top level of the program. If no suitable except block is found, \n",
    "the program will terminate, and an error message (including the traceback) will be displayed.\n",
    "\n",
    "This behavior is known as \"unhandled exception\" or \"uncaught exception.\" When an exception is not handled, it becomes an unhandled exception,\n",
    "and the program cannot continue its normal execution.\n",
    "try:\n",
    "    # Code that might raise an exception\n",
    "    x = 10 / 0  # Division by zero, raises ZeroDivisionError\n",
    "\n",
    "except ValueError:\n",
    "    # Handling a different exception type\n",
    "    print(\"ValueError occurred.\")\n",
    "\n",
    "# Code continues execution after the try-except block\n",
    "print(\"Program continues...\")\n"
   ]
  },
  {
   "cell_type": "code",
   "execution_count": null,
   "id": "2be87f0f-1e98-412e-9f5f-47769b810502",
   "metadata": {},
   "outputs": [],
   "source": [
    "4. What is the difference between using a bare except block and specifying a specific\n",
    "exception type?"
   ]
  },
  {
   "cell_type": "code",
   "execution_count": null,
   "id": "3bd1a728-fc60-4acc-bbb3-cfe4098eed6f",
   "metadata": {},
   "outputs": [],
   "source": [
    "Ans:\n",
    "Bare except block:\n",
    "\n",
    "A bare except block catches all types of exceptions that occur within the corresponding try block.\n",
    "It does not specify a particular exception type, so it acts as a general catch-all for any exception.\n",
    "While it can be convenient to catch any exception, it can also make it harder to identify and handle specific errors appropriately.\n",
    "Using a bare except block is generally discouraged because it can mask errors and make debugging more challenging. It's recommended to catch specific exceptions whenever possible.\n",
    "Specifying a specific exception type:\n",
    "\n",
    "When you specify a specific exception type in an except block, it only catches that particular type of exception and its subclasses.\n",
    "By specifying a specific exception type, you have more control over which exceptions you handle and how you handle them.\n",
    "This allows you to provide more specific error handling and take appropriate actions based on the nature of the exception.\n",
    "It helps in distinguishing different types of exceptions and providing targeted error messages or error recovery mechanisms."
   ]
  },
  {
   "cell_type": "code",
   "execution_count": null,
   "id": "2e721ad2-f7e3-4299-b72b-e556339eedb8",
   "metadata": {},
   "outputs": [],
   "source": [
    "5. Can you have nested try-except blocks in Python? If yes, then give an example."
   ]
  },
  {
   "cell_type": "code",
   "execution_count": null,
   "id": "50188db7-8be9-4efe-86cd-2a2d16133b73",
   "metadata": {},
   "outputs": [],
   "source": [
    "Nested try-except blocks are useful when you want to handle exceptions at different levels of a program's execution and provide appropriate\n",
    "error handling and recovery mechanisms. They allow for fine-grained control over exception handling within specific scopes, providing\n",
    "a structured approach to deal with errors \n",
    "in complex scenarios.\n",
    "try:\n",
    "    # Outer try block\n",
    "    print(\"Outer try block started.\")\n",
    "\n",
    "    try:\n",
    "        # Inner try block\n",
    "        print(\"Inner try block started.\")\n",
    "        x = 10 / 0  # Division by zero, raises ZeroDivisionError\n",
    "        print(\"This line will not be executed in the inner try block.\")\n",
    "\n",
    "    except ZeroDivisionError:\n",
    "        # Inner except block\n",
    "        print(\"Error: Division by zero occurred in the inner try block.\")\n",
    "\n",
    "    # More code...\n",
    "\n",
    "except:\n",
    "    # Outer except block\n",
    "    print(\"An error occurred in the outer try block.\")\n",
    "\n",
    "# Code continues execution after the outer try-except block\n",
    "print(\"Program continues...\")\n"
   ]
  },
  {
   "cell_type": "code",
   "execution_count": null,
   "id": "6002ce9d-b577-41cf-b7f3-017435b85528",
   "metadata": {},
   "outputs": [],
   "source": [
    "6. Can we use multiple exception blocks, if yes then give an example."
   ]
  },
  {
   "cell_type": "code",
   "execution_count": null,
   "id": "00943fcf-a0e2-4bd0-ab09-293ebdae1ab0",
   "metadata": {},
   "outputs": [],
   "source": [
    "Yes, multiple except blocks can be used in Python to handle different types of exceptions. This allows you to provide specific error\n",
    "handling for each exception type.\n",
    "try:\n",
    "    # Code that might raise an exception\n",
    "    x = int(input(\"Enter a number: \"))\n",
    "    result = 10 / x\n",
    "\n",
    "    # More code...\n",
    "\n",
    "except ValueError:\n",
    "    # Handling ValueError (e.g., if the user enters a non-integer)\n",
    "    print(\"Error: Invalid input. Please enter a valid integer.\")\n",
    "\n",
    "except ZeroDivisionError:\n",
    "    # Handling ZeroDivisionError (e.g., if the user enters zero)\n",
    "    print(\"Error: Division by zero is not allowed.\")\n",
    "\n",
    "except Exception as e:\n",
    "    # Handling other exceptions (any exception not caught by previous blocks)\n",
    "    print(\"An error occurred:\", str(e))\n",
    "\n",
    "# Code continues execution after the try-except block\n",
    "print(\"Program continues...\")\n"
   ]
  },
  {
   "cell_type": "code",
   "execution_count": null,
   "id": "54d58924-0c63-4ec9-b7ea-3ec5e97609f7",
   "metadata": {},
   "outputs": [],
   "source": [
    "7. Write the reason due to which following errors are raised:\n",
    "a. EOFError\n",
    "b. FloatingPointError\n",
    "c. IndexError\n",
    "d. MemoryError\n",
    "e. OverflowError\n",
    "f. TabError\n",
    "g. ValueError"
   ]
  },
  {
   "cell_type": "code",
   "execution_count": null,
   "id": "b2a041f7-ac4c-4066-a415-77b1f059a518",
   "metadata": {},
   "outputs": [],
   "source": [
    "Here are the reasons due to which the following errors are raised:\n",
    "\n",
    "a. EOFError: This error is raised when the input() function or raw_input() (Python 2) function reaches the end of file (EOF) without receiving any input. \n",
    "It typically occurs when the user hits the end-of-file key combination (Ctrl+D on Unix/Linux or Ctrl+Z on Windows) while the program is waiting for input.\n",
    "\n",
    "b. FloatingPointError: This error is raised when a floating-point operation encounters an exceptional condition that cannot be handled, such as division\n",
    "by zero, overflow, or underflow. It typically occurs when there is an error in floating-point arithmetic calculations.\n",
    "\n",
    "c. IndexError: This error is raised when trying to access an index of a sequence (such as a list or string) that is out of range. It occurs when you\n",
    "attempt to access an element using an index that is either negative or greater than or equal to the length of the sequence.\n",
    "\n",
    "d. MemoryError: This error is raised when an operation fails to allocate memory due to insufficient available memory. It occurs when the program\n",
    "tries to allocate more memory than the system can provide.\n",
    "\n",
    "e. OverflowError: This error is raised when the result of an arithmetic operation is too large to be expressed within the allowed range of the numeric\n",
    "type. It typically occurs in situations where the value being calculated exceeds the maximum representable value for that specific numeric type.\n",
    "\n",
    "f. TabError: This error is raised when inconsistent use of tabs and spaces is encountered in indentation. It occurs when there is a mix of tabs and \n",
    "spaces used for indentation, which leads to indentation errors.\n",
    "\n",
    "g. ValueError: This error is raised when an operation or function receives an argument of the correct type but with an invalid value. It occurs when\n",
    "there is a mismatch between the expected value and the actual value passed to a function or used in an operation"
   ]
  },
  {
   "cell_type": "code",
   "execution_count": null,
   "id": "da8ce3c4-8c6a-4393-b85e-b69d381b0464",
   "metadata": {},
   "outputs": [],
   "source": [
    "8. Write code for the following given scenario and add try-exception block to it.\n",
    "a. Program to divide two numbers\n",
    "b. Program to convert a string to an integer\n",
    "c. Program to access an element in a list\n",
    "d. Program to handle a specific exception\n",
    "e. Program to handle any exception"
   ]
  },
  {
   "cell_type": "code",
   "execution_count": null,
   "id": "10a94023-ad18-433a-95e1-c144d015df7b",
   "metadata": {},
   "outputs": [],
   "source": [
    "a. Program to divide two numbers:\n",
    "    try:\n",
    "    num1 = int(input(\"Enter the numerator: \"))\n",
    "    num2 = int(input(\"Enter the denominator: \"))\n",
    "\n",
    "    result = num1 / num2\n",
    "    print(\"Result:\", result)\n",
    "\n",
    "except ZeroDivisionError:\n",
    "    print(\"Error: Division by zero is not allowed.\")\n",
    "\n",
    "except ValueError:\n",
    "    print(\"Error: Invalid input. Please enter valid integers.\")\n"
   ]
  },
  {
   "cell_type": "code",
   "execution_count": null,
   "id": "91bbc1c5-0c97-49f5-8a1f-869ffc5373af",
   "metadata": {},
   "outputs": [],
   "source": [
    "b. Program to convert a string to an integer:\n",
    "    try:\n",
    "    string_num = input(\"Enter a number: \")\n",
    "    num = int(string_num)\n",
    "    print(\"Number:\", num)\n",
    "\n",
    "except ValueError:\n",
    "    print(\"Error: Invalid input. Please enter a valid integer.\")\n"
   ]
  }
 ],
 "metadata": {
  "kernelspec": {
   "display_name": "Python 3 (ipykernel)",
   "language": "python",
   "name": "python3"
  },
  "language_info": {
   "codemirror_mode": {
    "name": "ipython",
    "version": 3
   },
   "file_extension": ".py",
   "mimetype": "text/x-python",
   "name": "python",
   "nbconvert_exporter": "python",
   "pygments_lexer": "ipython3",
   "version": "3.10.6"
  }
 },
 "nbformat": 4,
 "nbformat_minor": 5
}
